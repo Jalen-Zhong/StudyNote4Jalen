{
 "cells": [
  {
   "cell_type": "markdown",
   "metadata": {},
   "source": [
    "# 修饰器"
   ]
  },
  {
   "cell_type": "markdown",
   "metadata": {},
   "source": [
    "## 无参情况\n",
    "### 无修饰器函数传参例子："
   ]
  },
  {
   "cell_type": "code",
   "execution_count": 34,
   "metadata": {},
   "outputs": [
    {
     "name": "stdout",
     "output_type": "stream",
     "text": [
      "before func\n",
      "hi\n",
      "after func\n"
     ]
    }
   ],
   "source": [
    "def hi():\n",
    "    \"\"\"hi func，假装是很复杂的函数\"\"\"\n",
    "    return 'hi'\n",
    "\n",
    "def aop(func):\n",
    "    \"\"\"aop func\"\"\"\n",
    "    print('before func')\n",
    "    print(func())\n",
    "    print('after func')\n",
    "    \n",
    "if __name__ == '__main__':\n",
    "    aop(hi)"
   ]
  },
  {
   "cell_type": "markdown",
   "metadata": {},
   "source": [
    "### 修饰器装饰"
   ]
  },
  {
   "cell_type": "code",
   "execution_count": 35,
   "metadata": {},
   "outputs": [
    {
     "name": "stdout",
     "output_type": "stream",
     "text": [
      "before func\n",
      "hi\n",
      "after func\n"
     ]
    }
   ],
   "source": [
    "def aop(func):\n",
    "    \"\"\"aop func\"\"\"\n",
    "    def wrapper():\n",
    "        \"\"\"wrapper func\"\"\"\n",
    "        print('before func')\n",
    "        func()\n",
    "        print('after func')\n",
    "    return wrapper\n",
    "\n",
    "@aop\n",
    "def hi():\n",
    "    \"\"\"hi func\"\"\"\n",
    "    print('hi')\n",
    "\n",
    "if __name__ == '__main__':\n",
    "    hi()"
   ]
  },
  {
   "cell_type": "markdown",
   "metadata": {},
   "source": [
    "简单来说，换言之：`@aop 等效于hi = aop(hi)`。对于@，可以理解是，它通过闭包的方式把新函数的引用赋值给了原来函数的引用"
   ]
  },
  {
   "cell_type": "markdown",
   "metadata": {},
   "source": [
    "## 含参情况"
   ]
  },
  {
   "cell_type": "code",
   "execution_count": 36,
   "metadata": {},
   "outputs": [
    {
     "name": "stdout",
     "output_type": "stream",
     "text": [
      "before\n",
      "test hi: 1, 2, 3\n",
      "after\n",
      "before\n",
      "test hello: a, b\n",
      "after\n"
     ]
    }
   ],
   "source": [
    "from functools import wraps\n",
    "\n",
    "def aop(func):\n",
    "    \"\"\"aop func\"\"\"\n",
    "    @wraps(func)\n",
    "    def wrap(*args, **kwargs):\n",
    "        print('before')\n",
    "        func(*args, **kwargs)\n",
    "        print('after')\n",
    "\n",
    "    return wrap\n",
    "\n",
    "@aop\n",
    "def hi(a, b, c):\n",
    "    \"\"\"hi func\"\"\"\n",
    "    print('test hi: %s, %s, %s' % (a, b, c))\n",
    "\n",
    "@aop\n",
    "def hello(a, b):\n",
    "    \"\"\"hello func\"\"\"\n",
    "    print('test hello: %s, %s' % (a, b))\n",
    "\n",
    "if __name__ == '__main__':\n",
    "    hi(1, 2, 3)\n",
    "    hello('a', 'b')"
   ]
  },
  {
   "cell_type": "markdown",
   "metadata": {},
   "source": [
    "### 带参修饰器"
   ]
  },
  {
   "cell_type": "code",
   "execution_count": 37,
   "metadata": {},
   "outputs": [
    {
     "name": "stdout",
     "output_type": "stream",
     "text": [
      "before abc\n",
      "test hi: 1, 2, 3\n",
      "after abc\n",
      "\n",
      "before pppppp\n",
      "test hi: 2, 3, 4\n",
      "after pppppp\n"
     ]
    }
   ],
   "source": [
    "from functools import wraps\n",
    "\n",
    "def aop_with_param(aop_test_str):\n",
    "    def aop(func):\n",
    "        \"\"\"aop func\"\"\"\n",
    "        @wraps(func)\n",
    "        def wrap(*args, **kwargs):\n",
    "            print('before ' + str(aop_test_str))\n",
    "            func(*args, **kwargs)\n",
    "            print('after ' + str(aop_test_str))\n",
    "        return wrap\n",
    "    return aop\n",
    "\n",
    "@aop_with_param('abc')\n",
    "def hi(a, b, c):\n",
    "    \"\"\"hi func\"\"\"\n",
    "    print('test hi: %s, %s, %s' % (a, b, c))\n",
    "\n",
    "@aop_with_param('pppppp')\n",
    "def hi2(a, b, c):\n",
    "    \"\"\"hi func\"\"\"\n",
    "    print('test hi: %s, %s, %s' % (a, b, c))\n",
    "\n",
    "if __name__ == '__main__':\n",
    "    hi(1, 2, 3)\n",
    "    print('')\n",
    "    hi2(2, 3, 4)"
   ]
  },
  {
   "cell_type": "markdown",
   "metadata": {},
   "source": [
    "## 修饰器类"
   ]
  },
  {
   "cell_type": "code",
   "execution_count": 38,
   "metadata": {},
   "outputs": [
    {
     "name": "stdout",
     "output_type": "stream",
     "text": [
      "before pppppp\n",
      "hi\n",
      "after pppppp\n"
     ]
    }
   ],
   "source": [
    "from functools import wraps\n",
    "\n",
    "class aop(object):\n",
    "    def __init__(self, aop_test_str):\n",
    "        self.aop_test_str = aop_test_str\n",
    "\n",
    "    def __call__(self, func):\n",
    "        @wraps(func)\n",
    "        def wrapper(*args, **kwargs):\n",
    "            print('before ' + self.aop_test_str)\n",
    "            func()\n",
    "            print('after ' + self.aop_test_str)\n",
    "\n",
    "        return wrapper\n",
    "        \n",
    "@aop('pppppp')\n",
    "def hi():\n",
    "    print('hi')\n",
    "\n",
    "if __name__=='__main__':\n",
    "    hi()"
   ]
  },
  {
   "cell_type": "markdown",
   "metadata": {},
   "source": [
    "### 继承修饰器"
   ]
  },
  {
   "cell_type": "code",
   "execution_count": 39,
   "metadata": {},
   "outputs": [
    {
     "name": "stdout",
     "output_type": "stream",
     "text": [
      "before ssssss\n",
      "before pppppp\n",
      "hello\n",
      "after pppppp\n",
      "after ssssss\n"
     ]
    }
   ],
   "source": [
    "class sub_aop(aop): # 继承aop父类\n",
    "    def __init__(self, sub_aop_str, *args, **kwargs):\n",
    "        self.sub_aop_str = sub_aop_str\n",
    "        super(sub_aop, self).__init__(*args, **kwargs)\n",
    "\n",
    "# 所有的函数都是可调用对象。\n",
    "#一个类实例也可以变成一个可调用对象，只需要实现一个特殊方法__call__()。\n",
    "# 意思是可以直接调用类，而不需要另外写一个方法来调用类了。\n",
    "# 所以当sub_aop继承aop类时，aop中的__call__方法让aop类被调用，输出aop中__call__的内容\n",
    "    def __call__(self, func):\n",
    "        @wraps(func)\n",
    "        def wrapper(*args, **kwargs):\n",
    "            print('before ' + self.sub_aop_str)\n",
    "            super(sub_aop, self).__call__(func)()\n",
    "            print('after ' + self.sub_aop_str)\n",
    "        return wrapper\n",
    "        \n",
    "@sub_aop('ssssss', 'pppppp')\n",
    "def hello():\n",
    "    print('hello')\n",
    "    \n",
    "if __name__ == '__main__':\n",
    "    hello()"
   ]
  },
  {
   "cell_type": "markdown",
   "metadata": {},
   "source": [
    "#### 对上述代码的深入理解："
   ]
  },
  {
   "cell_type": "code",
   "execution_count": 40,
   "metadata": {},
   "outputs": [
    {
     "name": "stdout",
     "output_type": "stream",
     "text": [
      "before pppppp\n",
      "hello\n",
      "after pppppp\n"
     ]
    },
    {
     "data": {
      "text/plain": [
       "\"\\n@sub_aop('ssssss', 'pppppp')的入参，'ssssss'赋予sub_aop()中的sub_aop_str, 'pppppp'赋予*args并在使用super()时调用父类aop()的__init__方法时\\n赋予aop()的aop_test_str, aop()自动调用__call__()方法输入如下\\n\\n\""
      ]
     },
     "execution_count": 40,
     "metadata": {},
     "output_type": "execute_result"
    }
   ],
   "source": [
    "class sub_aop(aop): # 继承aop父类\n",
    "    def __init__(self, sub_aop_str, *args, **kwargs):\n",
    "        self.sub_aop_str = sub_aop_str\n",
    "        super(sub_aop, self).__init__(*args, **kwargs)\n",
    "\n",
    "    # def __call__(self, func):\n",
    "    #     @wraps(func)\n",
    "    #     def wrapper(*args, **kwargs):\n",
    "    #         print('before ' + self.sub_aop_str)\n",
    "    #         super(sub_aop, self).__call__(func)()\n",
    "    #         print('after ' + self.sub_aop_str)\n",
    "    #     return wrapper\n",
    "        \n",
    "@sub_aop('ssssss', 'pppppp')\n",
    "def hello():\n",
    "    print('hello')\n",
    "    \n",
    "if __name__ == '__main__':\n",
    "    hello()\n",
    "\n",
    "'''\n",
    "@sub_aop('ssssss', 'pppppp')的入参，'ssssss'赋予sub_aop()中的sub_aop_str, 'pppppp'赋予*args并在使用super()时调用父类aop()的__init__方法时\n",
    "赋予aop()的aop_test_str, aop()自动调用__call__()方法输入如下\n",
    "\n",
    "'''"
   ]
  },
  {
   "cell_type": "code",
   "execution_count": 41,
   "metadata": {},
   "outputs": [
    {
     "name": "stdout",
     "output_type": "stream",
     "text": [
      "before ssssss\n",
      "after ssssss\n"
     ]
    },
    {
     "data": {
      "text/plain": [
       "'\\n@因sub_aop()重写了aop(), 所以不调用sub_aop的__call__方法, 输出如下\\n\\n'"
      ]
     },
     "execution_count": 41,
     "metadata": {},
     "output_type": "execute_result"
    }
   ],
   "source": [
    "class sub_aop(aop): # 继承aop父类\n",
    "    def __init__(self, sub_aop_str, *args, **kwargs):\n",
    "        self.sub_aop_str = sub_aop_str\n",
    "        super(sub_aop, self).__init__(*args, **kwargs)\n",
    "\n",
    "    def __call__(self, func):\n",
    "        @wraps(func)\n",
    "        def wrapper(*args, **kwargs):\n",
    "            print('before ' + self.sub_aop_str)\n",
    "            # super(sub_aop, self).__call__(func)()\n",
    "            print('after ' + self.sub_aop_str)\n",
    "        return wrapper\n",
    "        \n",
    "@sub_aop('ssssss', 'pppppp')\n",
    "def hello():\n",
    "    print('hello')\n",
    "    \n",
    "if __name__ == '__main__':\n",
    "    hello()\n",
    "\n",
    "'''\n",
    "@因sub_aop()重写了aop(), 所以不调用sub_aop的__call__方法, 输出如下\n",
    "\n",
    "'''"
   ]
  },
  {
   "cell_type": "code",
   "execution_count": 43,
   "metadata": {},
   "outputs": [
    {
     "name": "stdout",
     "output_type": "stream",
     "text": [
      "before ssssss\n",
      "before pppppp\n",
      "hello\n",
      "after pppppp\n",
      "after ssssss\n"
     ]
    },
    {
     "data": {
      "text/plain": [
       "'\\n@因sub_aop()调用父类的__call__方法, 传入func参数, 输出如下\\n\\n'"
      ]
     },
     "execution_count": 43,
     "metadata": {},
     "output_type": "execute_result"
    }
   ],
   "source": [
    "class sub_aop(aop): # 继承aop父类\n",
    "    def __init__(self, sub_aop_str, *args, **kwargs):\n",
    "        self.sub_aop_str = sub_aop_str\n",
    "        super(sub_aop, self).__init__(*args, **kwargs)\n",
    "\n",
    "    def __call__(self, func):\n",
    "        @wraps(func)\n",
    "        def wrapper(*args, **kwargs):\n",
    "            print('before ' + self.sub_aop_str)\n",
    "            super(sub_aop, self).__call__(func)()\n",
    "            print('after ' + self.sub_aop_str)\n",
    "        return wrapper\n",
    "        \n",
    "@sub_aop('ssssss', 'pppppp')\n",
    "def hello():\n",
    "    print('hello')\n",
    "    \n",
    "if __name__ == '__main__':\n",
    "    hello()\n",
    "\n",
    "'''\n",
    "@因sub_aop()调用父类的__call__方法, 传入func参数, 输出如下\n",
    "\n",
    "'''"
   ]
  },
  {
   "cell_type": "markdown",
   "metadata": {},
   "source": [
    "# 关键字用法"
   ]
  },
  {
   "cell_type": "markdown",
   "metadata": {},
   "source": [
    "*args 表示任何多个无名参数， 他本质上是一个 tuple\n",
    "\n",
    "** kwargs 表示关键字参数， 它本质上是一个 dict\n",
    "\n",
    "参考：https://blog.csdn.net/GODSuner/article/details/117961990\n",
    "\n",
    "> 所以上述代码去掉`**kwargs`并无影响。"
   ]
  },
  {
   "cell_type": "markdown",
   "metadata": {},
   "source": [
    "# super()的用法"
   ]
  },
  {
   "cell_type": "code",
   "execution_count": 19,
   "metadata": {},
   "outputs": [
    {
     "name": "stdout",
     "output_type": "stream",
     "text": [
      "father have house\n",
      "son have car\n",
      "(10, 5)\n"
     ]
    }
   ],
   "source": [
    "class Father(): \n",
    "    def __init__(self, house=10, *args, **kwargs): #老爷子花了10w买的房\n",
    "        self.house = house \n",
    "        print('father have house')                                                                                                                                               \n",
    "\n",
    "class Son(Father): \n",
    "    def __init__(self, car=5, *args, **kwargs): #儿子花了5w买的车\n",
    "        super(Son, self).__init__() #调用父类Father的函数__init__，\n",
    "        self.car = car \n",
    "        print('son have car')                                                                                                                                              \n",
    "\n",
    "if __name__=='__main__':\n",
    "    son = Son(5)\n",
    "    print((son.house, son.car))"
   ]
  },
  {
   "cell_type": "markdown",
   "metadata": {},
   "source": [
    "类的继承中，如定义了与继承父类的同名方法`__init__()`；该方法希望能继承实现父类的功能，同时能进行扩展，那此时需要调用父类的方法，如何调用？super进行实现（继承调用父类方法的功能）。\n",
    "\n",
    "参考：https://zhuanlan.zhihu.com/p/641440838"
   ]
  },
  {
   "cell_type": "markdown",
   "metadata": {},
   "source": [
    "# 单双下划线"
   ]
  },
  {
   "cell_type": "markdown",
   "metadata": {},
   "source": [
    "- 单下划线：\n",
    "  - 在Python中，单下划线作为命名约定，用于表示某个变量、方法或属性是内部使用的或具有特定含义，但不希望在外部直接访问。\n",
    "- 双下划线：\n",
    "  - 名称修饰。双下划线用于名称修饰，即将属性或方法前面的双下划线作为前缀，使其成为私有成员。私有成员只能在类内部访问，无法在类外部直接访问。\n",
    "\n",
    "参考：https://zhuanlan.zhihu.com/p/640538185#:~:text=%E5%8D%95%E4%B8%8B%E5%88%92%E7%BA%BF%E4%BD%9C%E4%B8%BA%E5%91%BD%E5%90%8D%E7%BA%A6%E5%AE%9A%E3%80%81%E9%81%BF%E5%85%8D%E5%91%BD%E5%90%8D%E5%86%B2%E7%AA%81%E3%80%81%E4%B8%B4%E6%97%B6%E5%8F%98%E9%87%8F%E5%92%8C%E5%BC%95%E5%85%A5%E6%9C%AA%E4%BD%BF%E7%94%A8%E7%9A%84%E5%8F%98%E9%87%8F%E7%AD%89%E6%96%B9%E9%9D%A2%E5%8F%91%E6%8C%A5%E4%BD%9C%E7%94%A8%E3%80%82,%E5%8F%8C%E4%B8%8B%E5%88%92%E7%BA%BF%E7%94%A8%E4%BA%8E%E5%90%8D%E7%A7%B0%E4%BF%AE%E9%A5%B0%E3%80%81%E5%90%8D%E7%A7%B0%E6%94%B9%E5%86%99%E5%92%8C%E5%9C%A8%E9%AD%94%E6%9C%AF%E6%96%B9%E6%B3%95%E4%B8%AD%E6%89%AE%E6%BC%94%E9%87%8D%E8%A6%81%E8%A7%92%E8%89%B2%E3%80%82%20%E6%8E%8C%E6%8F%A1%E5%8D%95%E4%B8%8B%E5%88%92%E7%BA%BF%E5%92%8C%E5%8F%8C%E4%B8%8B%E5%88%92%E7%BA%BF%E7%9A%84%E4%BD%BF%E7%94%A8%EF%BC%8C%E5%B0%86%E5%B8%AE%E5%8A%A9%E4%BD%A0%E6%9B%B4%E5%A5%BD%E5%9C%B0%E7%90%86%E8%A7%A3%E5%92%8C%E5%BA%94%E7%94%A8Python%E7%BC%96%E7%A8%8B%E4%B8%AD%E7%9A%84%E5%91%BD%E5%90%8D%E7%BA%A6%E5%AE%9A%E3%80%81%E4%BB%A3%E7%A0%81%E7%BB%84%E7%BB%87%E5%92%8C%E5%AF%B9%E8%B1%A1%E8%A1%8C%E4%B8%BA%E5%AE%9A%E5%88%B6%E3%80%82"
   ]
  }
 ],
 "metadata": {
  "kernelspec": {
   "display_name": "jalenbsenv",
   "language": "python",
   "name": "python3"
  },
  "language_info": {
   "codemirror_mode": {
    "name": "ipython",
    "version": 3
   },
   "file_extension": ".py",
   "mimetype": "text/x-python",
   "name": "python",
   "nbconvert_exporter": "python",
   "pygments_lexer": "ipython3",
   "version": "3.8.19"
  }
 },
 "nbformat": 4,
 "nbformat_minor": 2
}
